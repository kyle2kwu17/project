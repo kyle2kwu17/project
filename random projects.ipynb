{
 "cells": [
  {
   "cell_type": "code",
   "execution_count": 1,
   "metadata": {},
   "outputs": [],
   "source": [
    "import random # notice that this mod is preinstalled in python"
   ]
  },
  {
   "cell_type": "code",
   "execution_count": 2,
   "metadata": {},
   "outputs": [],
   "source": [
    "class dices(object):\n",
    "    \n",
    "    def __init__(self, dice1, dice2):\n",
    "        self.dice1 = dice1 \n",
    "        self.dice2 = dice2\n",
    "            \n",
    "    def dice1_roll(self):\n",
    "         if self.dice1 == 6:\n",
    "            for self.dice1 in range(1):\n",
    "                return random.randint(1,6) # getting random number\n",
    "\n",
    "    \n",
    "    def dice2_roll(self):\n",
    "        if self.dice2 == 9:\n",
    "            for self.dice2 in range(1):\n",
    "                return random.randint(1,6)\n",
    "  "
   ]
  },
  {
   "cell_type": "code",
   "execution_count": 3,
   "metadata": {},
   "outputs": [],
   "source": [
    "rolling = dices(6,9) # instantialization"
   ]
  },
  {
   "cell_type": "code",
   "execution_count": 4,
   "metadata": {},
   "outputs": [
    {
     "data": {
      "text/plain": [
       "5"
      ]
     },
     "execution_count": 4,
     "metadata": {},
     "output_type": "execute_result"
    }
   ],
   "source": [
    "rolling.dice1_roll()"
   ]
  },
  {
   "cell_type": "code",
   "execution_count": 5,
   "metadata": {},
   "outputs": [
    {
     "data": {
      "text/plain": [
       "5"
      ]
     },
     "execution_count": 5,
     "metadata": {},
     "output_type": "execute_result"
    }
   ],
   "source": [
    "rolling.dice2_roll()"
   ]
  },
  {
   "cell_type": "code",
   "execution_count": 6,
   "metadata": {},
   "outputs": [],
   "source": [
    "# part 2. gambling game"
   ]
  },
  {
   "cell_type": "code",
   "execution_count": 1,
   "metadata": {},
   "outputs": [],
   "source": [
    "import random"
   ]
  },
  {
   "cell_type": "code",
   "execution_count": 2,
   "metadata": {},
   "outputs": [
    {
     "name": "stdout",
     "output_type": "stream",
     "text": [
      "Hello, welcome to the gambling game! What's your name?\n",
      "kyle\n",
      "Alright, kyle, play on!!\n",
      "Gamble on\n",
      "enter a number:10\n",
      "-999999990000000\n"
     ]
    },
    {
     "ename": "TypeError",
     "evalue": "'<=' not supported between instances of 'int' and 'str'",
     "output_type": "error",
     "traceback": [
      "\u001b[1;31m---------------------------------------------------------------------------\u001b[0m",
      "\u001b[1;31mTypeError\u001b[0m                                 Traceback (most recent call last)",
      "\u001b[1;32m<ipython-input-2-6b58bed35f1b>\u001b[0m in \u001b[0;36m<module>\u001b[1;34m()\u001b[0m\n\u001b[0;32m     20\u001b[0m         \u001b[0mmoneyLeftover\u001b[0m \u001b[1;33m=\u001b[0m \u001b[0mgamblingMoney\u001b[0m \u001b[1;33m-\u001b[0m \u001b[0mrandom_gambles\u001b[0m\u001b[1;33m[\u001b[0m\u001b[0mrandom\u001b[0m\u001b[1;33m.\u001b[0m\u001b[0mrandint\u001b[0m\u001b[1;33m(\u001b[0m\u001b[1;36m0\u001b[0m\u001b[1;33m,\u001b[0m\u001b[1;36m7\u001b[0m\u001b[1;33m)\u001b[0m\u001b[1;33m]\u001b[0m \u001b[1;33m**\u001b[0m \u001b[1;36m5\u001b[0m \u001b[1;31m# to the power of 5\u001b[0m\u001b[1;33m\u001b[0m\u001b[0m\n\u001b[0;32m     21\u001b[0m         \u001b[0mprint\u001b[0m\u001b[1;33m(\u001b[0m\u001b[0mmoneyLeftover\u001b[0m\u001b[1;33m)\u001b[0m\u001b[1;33m\u001b[0m\u001b[0m\n\u001b[1;32m---> 22\u001b[1;33m         \u001b[1;32mif\u001b[0m \u001b[0mmoneyLeftover\u001b[0m \u001b[1;33m<=\u001b[0m \u001b[1;34m\"0\"\u001b[0m\u001b[1;33m:\u001b[0m\u001b[1;33m\u001b[0m\u001b[0m\n\u001b[0m\u001b[0;32m     23\u001b[0m             \u001b[0mgamblesTaken\u001b[0m \u001b[1;33m=\u001b[0m \u001b[0mgamblesTaken\u001b[0m \u001b[1;33m-\u001b[0m \u001b[1;36m1\u001b[0m\u001b[1;33m\u001b[0m\u001b[0m\n\u001b[0;32m     24\u001b[0m             \u001b[0mprint\u001b[0m\u001b[1;33m(\u001b[0m\u001b[1;34m\"game over\"\u001b[0m\u001b[1;33m)\u001b[0m\u001b[1;33m\u001b[0m\u001b[0m\n",
      "\u001b[1;31mTypeError\u001b[0m: '<=' not supported between instances of 'int' and 'str'"
     ]
    }
   ],
   "source": [
    "gamblesTaken = 0 # starting point\n",
    "\n",
    "gamblingMoney = 10000000 #starting amount\n",
    "\n",
    "print(\"Hello, welcome to the gambling game! What's your name?\")\n",
    "\n",
    "myName = input()\n",
    "\n",
    "\n",
    "print('Alright, ' + myName + ', play on!!')\n",
    "\n",
    "while gamblesTaken < 10:\n",
    "    random_gambles = [1000, 2000, 3000, 4000, 5000, 6000, 7000, 8000] # list of numbers that will be used\n",
    "    print(\"Gamble on\")\n",
    "    enterNumber = input(\"enter a number:\")\n",
    "    \n",
    "    gamblesTaken = gamblesTaken + 1\n",
    "    \n",
    "    if enterNumber >= \"10\":\n",
    "        moneyLeftover = gamblingMoney - random_gambles[random.randint(0,7)] ** 5 # to the power of 5\n",
    "        print(moneyLeftover)\n",
    "        if moneyLeftover <= \"0\":\n",
    "            gamblesTaken = gamblesTaken - 1\n",
    "            print(\"game over\")\n",
    "            break\n",
    "        else:\n",
    "            continue\n",
    "    if enterNumber < \"10\":\n",
    "        moneyLeftover = gamblingMoney - 10 ** 10\n",
    "        print(moneyLeftover)\n",
    "        if moneyLeftover <= \"0\":\n",
    "            gamblesTaken = gamblesTaken - 1\n",
    "            print(\"game over\") \n",
    "            break\n",
    "        else:\n",
    "            continue\n",
    "    else:\n",
    "        print(\"gamble again\")\n",
    "        continue"
   ]
  },
  {
   "cell_type": "code",
   "execution_count": null,
   "metadata": {},
   "outputs": [],
   "source": []
  },
  {
   "cell_type": "code",
   "execution_count": null,
   "metadata": {},
   "outputs": [],
   "source": []
  },
  {
   "cell_type": "code",
   "execution_count": null,
   "metadata": {},
   "outputs": [],
   "source": [
    "# 3 short quiz"
   ]
  },
  {
   "cell_type": "code",
   "execution_count": 2,
   "metadata": {},
   "outputs": [
    {
     "name": "stdout",
     "output_type": "stream",
     "text": [
      "Hello! What is your name?\n",
      "kyle\n",
      "Well, kyle, Calculate the 2nd derivative of 25x^2.\n",
      "Solve:\n",
      "50\n",
      "good job\n"
     ]
    }
   ],
   "source": [
    "\n",
    "\n",
    "answersTaken = 0 # starting point\n",
    "\n",
    "print('Hello! What is your name?')\n",
    "\n",
    "myName = input()\n",
    "\n",
    "\n",
    "print('Well, ' + myName + ', Calculate the 2nd derivative of 25x^2.') # discrete arithmetic. same applies to below cells\n",
    "\n",
    "while answersTaken < 5:\n",
    "    print(\"Solve:\")\n",
    "    answer = input()\n",
    "    \n",
    "    answersTaken = answersTaken + 1\n",
    "    \n",
    "    if answer > \"50\":\n",
    "        print(\"oops. try again\")\n",
    "        continue\n",
    "    if answer > \"50\":\n",
    "        print(\"oops. try again\")\n",
    "        continue\n",
    "    if answersTaken == 5:\n",
    "        print(\"game over\")\n",
    "    else:\n",
    "        print(\"good job\")\n",
    "        break\n",
    "        \n"
   ]
  },
  {
   "cell_type": "code",
   "execution_count": 2,
   "metadata": {},
   "outputs": [
    {
     "name": "stdout",
     "output_type": "stream",
     "text": [
      "Do the next problem. Calculate the indefinite integral 2.\n",
      "Solve:\n",
      "2x\n",
      "nope. try again\n",
      "Solve:\n",
      "2x + C\n",
      "great job\n"
     ]
    }
   ],
   "source": [
    "answersTaken = 0\n",
    "\n",
    "print(\"Do the next problem. Calculate the indefinite integral 2.\")\n",
    "\n",
    "while answersTaken < 5:\n",
    "    print(\"Solve:\")\n",
    "    answer2 = input()\n",
    "    \n",
    "    answersTaken = answersTaken + 1\n",
    "    \n",
    "    if answer2 == \"2x + C\":\n",
    "        print(\"great job\")\n",
    "        break\n",
    "    if answersTaken == 5:\n",
    "        print(\"game over\")\n",
    "    else:\n",
    "        print(\"nope. try again\")\n",
    "        continue\n",
    "    \n",
    "    "
   ]
  },
  {
   "cell_type": "code",
   "execution_count": 4,
   "metadata": {},
   "outputs": [
    {
     "name": "stdout",
     "output_type": "stream",
     "text": [
      "Final question. A projectile sits on top a 50 meter building. Steve launches the projectile. The horizontal velocity of the projectile is 30 meters/ second. Calculate the distance traveled by the projectile\n",
      "Assume air resistance is negligible. Round your answer to the ones place.\n",
      "Solve:\n",
      "83\n",
      "nope. try again\n",
      "Solve:\n",
      "90\n",
      "nope. try again\n",
      "Solve:\n",
      "1\n",
      "nope. try again\n",
      "Solve:\n",
      "2\n",
      "nope. try again\n",
      "Solve:\n",
      "3\n",
      "game over\n"
     ]
    }
   ],
   "source": [
    "answersTaken = 0\n",
    "\n",
    "print(\"Final question. A projectile sits on top a 50 meter building. Steve launches the projectile. The horizontal velocity of the projectile is 30 meters/ second. Calculate the distance traveled by the projectile\")\n",
    "print(\"Assume air resistance is negligible. Round your answer to the ones place.\")\n",
    "\n",
    "\n",
    "while answersTaken < 5:\n",
    "    print(\"Solve:\")\n",
    "    answer3 = input()\n",
    "    \n",
    "    answersTaken = answersTaken + 1\n",
    "    \n",
    "    if answer3 == \"63 meters\":\n",
    "        print(\"great job\")\n",
    "        break\n",
    "    if answersTaken == 5:\n",
    "        print(\"game over\")\n",
    "    else:\n",
    "        print(\"nope. try again\")\n",
    "        continue\n",
    "    "
   ]
  },
  {
   "cell_type": "markdown",
   "metadata": {},
   "source": []
  },
  {
   "cell_type": "code",
   "execution_count": null,
   "metadata": {},
   "outputs": [],
   "source": []
  },
  {
   "cell_type": "code",
   "execution_count": null,
   "metadata": {},
   "outputs": [],
   "source": []
  },
  {
   "cell_type": "code",
   "execution_count": null,
   "metadata": {},
   "outputs": [],
   "source": []
  },
  {
   "cell_type": "code",
   "execution_count": null,
   "metadata": {},
   "outputs": [],
   "source": []
  },
  {
   "cell_type": "code",
   "execution_count": null,
   "metadata": {},
   "outputs": [],
   "source": []
  },
  {
   "cell_type": "code",
   "execution_count": null,
   "metadata": {},
   "outputs": [],
   "source": []
  },
  {
   "cell_type": "code",
   "execution_count": null,
   "metadata": {},
   "outputs": [],
   "source": []
  },
  {
   "cell_type": "code",
   "execution_count": null,
   "metadata": {},
   "outputs": [],
   "source": []
  },
  {
   "cell_type": "code",
   "execution_count": null,
   "metadata": {},
   "outputs": [],
   "source": []
  }
 ],
 "metadata": {
  "kernelspec": {
   "display_name": "Python 3",
   "language": "python",
   "name": "python3"
  }
 },
 "nbformat": 4,
 "nbformat_minor": 2
}
